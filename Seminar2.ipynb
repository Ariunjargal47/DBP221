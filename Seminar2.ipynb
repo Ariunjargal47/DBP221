{
 "cells": [
  {
   "cell_type": "code",
   "execution_count": 1,
   "metadata": {},
   "outputs": [
    {
     "name": "stdout",
     "output_type": "stream",
     "text": [
      "12\n",
      "It is not\n"
     ]
    }
   ],
   "source": [
    "#1\n",
    "a = int(input())\n",
    "l = a\n",
    "k = 0\n",
    "while a > 0:\n",
    "    digit1 = a%10\n",
    "    k = k*10 + digit1\n",
    "    a = a // 10 \n",
    "if l == k:\n",
    "    print('Palindrome')\n",
    "else :\n",
    "    print('It is not')"
   ]
  },
  {
   "cell_type": "code",
   "execution_count": 2,
   "metadata": {},
   "outputs": [
    {
     "name": "stdout",
     "output_type": "stream",
     "text": [
      "TEAcher\n",
      "Capital letter 3\n",
      "Lowercase letter 4\n"
     ]
    }
   ],
   "source": [
    "#2\n",
    "m = list(input())\n",
    "def count(a):\n",
    "    k = 0\n",
    "    c = 0\n",
    "    for i in range(len(a)):\n",
    "        if a[i] >= 'a' and a[i] <= 'z':\n",
    "            k +=1\n",
    "            i +=1\n",
    "        elif (a[i] >= 'A' and a[i] <= 'Z'):\n",
    "            c +=1\n",
    "            i +=1\n",
    "    print('Capital letter', c)\n",
    "    print('Lowercase letter', k)\n",
    "count(m) "
   ]
  },
  {
   "cell_type": "code",
   "execution_count": 4,
   "metadata": {},
   "outputs": [
    {
     "name": "stdout",
     "output_type": "stream",
     "text": [
      "46080\n"
     ]
    }
   ],
   "source": [
    "#3\n",
    "a = [2, 4, 6, 8, 10, 12]\n",
    "def multiply(x):\n",
    "    k = 1\n",
    "    for i in x:\n",
    "        k = k * i\n",
    "        i += 1 \n",
    "    print(k)\n",
    "multiply(a)"
   ]
  },
  {
   "cell_type": "code",
   "execution_count": 7,
   "metadata": {},
   "outputs": [
    {
     "name": "stdout",
     "output_type": "stream",
     "text": [
      "5\n",
      "120\n"
     ]
    }
   ],
   "source": [
    "#4\n",
    "n = int(input())\n",
    "def factorial(n):\n",
    "    if n == 1:\n",
    "        return 1\n",
    "    elif n == 0:\n",
    "        return 1\n",
    "    elif n < 0:\n",
    "        return 'bolomjgui'\n",
    "    else: \n",
    "        return n * factorial(n - 1)\n",
    "print(factorial(n))"
   ]
  },
  {
   "cell_type": "code",
   "execution_count": 8,
   "metadata": {},
   "outputs": [
    {
     "name": "stdout",
     "output_type": "stream",
     "text": [
      "[4, 3, 2, 2]\n"
     ]
    }
   ],
   "source": [
    "#5\n",
    "a = [ 2, 2, 3, 4]\n",
    "def rev(str):\n",
    "    str.reverse()\n",
    "    print(str)\n",
    "rev(a)"
   ]
  },
  {
   "cell_type": "code",
   "execution_count": 10,
   "metadata": {},
   "outputs": [
    {
     "name": "stdout",
     "output_type": "stream",
     "text": [
      "55\n"
     ]
    }
   ],
   "source": [
    "#6\n",
    "list1 = [13,12,11,10,9]\n",
    "def sum1(list):\n",
    "    k = 0\n",
    "    for v in list:\n",
    "        k += v\n",
    "        v += 1\n",
    "    print(k)\n",
    "sum1(list1)"
   ]
  },
  {
   "cell_type": "code",
   "execution_count": 12,
   "metadata": {},
   "outputs": [
    {
     "name": "stdout",
     "output_type": "stream",
     "text": [
      "{1, 2, 3, 4, 5, 6}\n"
     ]
    }
   ],
   "source": [
    "#7\n",
    "a = [1,2,2,2,3,3,4,5,5,6,6]\n",
    "def clear(l):\n",
    "    s = set(l)\n",
    "    return s\n",
    "print(clear(a))"
   ]
  },
  {
   "cell_type": "code",
   "execution_count": 15,
   "metadata": {},
   "outputs": [
    {
     "name": "stdout",
     "output_type": "stream",
     "text": [
      "333\n"
     ]
    }
   ],
   "source": [
    "#8\n",
    "list = [111, 222, 333]\n",
    "def sum1(num):\n",
    "    return max(num)    \n",
    "print(sum1(list))"
   ]
  }
 ],
 "metadata": {
  "kernelspec": {
   "display_name": "Python 3",
   "language": "python",
   "name": "python3"
  },
  "language_info": {
   "codemirror_mode": {
    "name": "ipython",
    "version": 3
   },
   "file_extension": ".py",
   "mimetype": "text/x-python",
   "name": "python",
   "nbconvert_exporter": "python",
   "pygments_lexer": "ipython3",
   "version": "3.8.5"
  }
 },
 "nbformat": 4,
 "nbformat_minor": 4
}
