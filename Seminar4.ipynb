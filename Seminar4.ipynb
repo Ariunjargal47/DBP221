{
 "cells": [
  {
   "cell_type": "code",
   "execution_count": 2,
   "metadata": {},
   "outputs": [
    {
     "name": "stdout",
     "output_type": "stream",
     "text": [
      "[ 50  51  52  53  54  55  56  57  58  59  60  61  62  63  64  65  66  67\n",
      "  68  69  70  71  72  73  74  75  76  77  78  79  80  81  82  83  84  85\n",
      "  86  87  88  89  90  91  92  93  94  95  96  97  98  99 100]\n"
     ]
    }
   ],
   "source": [
    "#1\n",
    "import numpy as np\n",
    "\n",
    "a = np.arange(50, 101)\n",
    "print(a)"
   ]
  },
  {
   "cell_type": "code",
   "execution_count": 17,
   "metadata": {},
   "outputs": [
    {
     "name": "stdout",
     "output_type": "stream",
     "text": [
      "[1 1 1 1 1 1 1 1 1 1]\n",
      "[0 0 0 0 0 0 0 0 0 0]\n",
      "[6 6 6 6 6 6 6 6 6 6]\n"
     ]
    }
   ],
   "source": [
    "#2\n",
    "import numpy as np\n",
    "a = np.repeat(1, 10)\n",
    "b = np.repeat(0, 10)\n",
    "c = np.repeat(6, 10)\n",
    "print(a)\n",
    "print(b)\n",
    "print(c)\n"
   ]
  },
  {
   "cell_type": "code",
   "execution_count": 5,
   "metadata": {},
   "outputs": [
    {
     "name": "stdout",
     "output_type": "stream",
     "text": [
      "[[20 21 22 23]\n",
      " [24 25 26 27]\n",
      " [28 29 30 31]]\n"
     ]
    }
   ],
   "source": [
    "#3\n",
    "import numpy as np\n",
    "x =  np.arange(20, 32).reshape(3,4)\n",
    "print(x)"
   ]
  },
  {
   "cell_type": "code",
   "execution_count": 8,
   "metadata": {},
   "outputs": [
    {
     "name": "stdout",
     "output_type": "stream",
     "text": [
      "[[1 0 0]\n",
      " [0 1 0]\n",
      " [0 0 1]]\n"
     ]
    }
   ],
   "source": [
    "#4\n",
    "import numpy as np\n",
    "x =  np.diag([1,1,1]).reshape(3,3)\n",
    "print(x)"
   ]
  },
  {
   "cell_type": "code",
   "execution_count": 7,
   "metadata": {},
   "outputs": [
    {
     "name": "stdout",
     "output_type": "stream",
     "text": [
      "[[1 0 0 0 0]\n",
      " [0 2 0 0 0]\n",
      " [0 0 3 0 0]\n",
      " [0 0 0 4 0]\n",
      " [0 0 0 0 5]]\n"
     ]
    }
   ],
   "source": [
    "#5\n",
    "import numpy as np\n",
    "x = np.diag([1, 2, 3, 4, 5])\n",
    "print(x)"
   ]
  },
  {
   "cell_type": "code",
   "execution_count": 19,
   "metadata": {},
   "outputs": [
    {
     "name": "stdout",
     "output_type": "stream",
     "text": [
      "Sum of 1 row: 3\n",
      "Sum of 2 row: 9\n",
      "Sum of 1 column: 5\n",
      "Sum of 2 column: 7\n"
     ]
    }
   ],
   "source": [
    "#6\n",
    "a = [[1, 2],  \n",
    "     [4, 5],\n",
    "    ];   \n",
    "rows = len(a);  \n",
    "cols = len(a);    \n",
    "for i in range(0, rows):  \n",
    "    sumRow = 0;  \n",
    "    for j in range(0, cols):  \n",
    "        sumRow = sumRow + a[i][j];  \n",
    "    print(\"Sum of \" + str(i+1) +\" row: \" + str(sumRow));  \n",
    "    \n",
    "for i in range(0, rows):  \n",
    "    sumCol = 0;  \n",
    "    for j in range(0, cols):  \n",
    "        sumCol = sumCol + a[j][i];  \n",
    "    print(\"Sum of \" + str(i+1) +\" column: \" + str(sumCol));  "
   ]
  },
  {
   "cell_type": "code",
   "execution_count": 33,
   "metadata": {},
   "outputs": [
    {
     "name": "stdout",
     "output_type": "stream",
     "text": [
      "Sum of 1 row: 295600000\n",
      "Sum of 2 row: 318300000\n",
      "Sum of 3 row: 318360000\n",
      "Sum of 4 row: 272900000\n",
      "Sum of 5 row: 243500000\n",
      "Sum of 6 row: 272500000\n",
      "Sum of 7 row: 272500000\n",
      "Sum of 1 column: 271200000\n",
      "Sum of 2 column: 269700000\n",
      "Sum of 3 column: 270600000\n",
      "Sum of 4 column: 288080000\n",
      "Sum of 5 column: 291980000\n",
      "Sum of 6 column: 306400000\n",
      "Sum of 7 column: 295700000\n"
     ]
    }
   ],
   "source": [
    "#7\n",
    "import numpy as np\n",
    "\n",
    "#Seasons\n",
    "Seasons = [\"2010\",\"2011\",\"2012\",\"2013\",\"2014\",\"2015\",\"2016\",\"2017\",\"2018\",\"2019\"]\n",
    "Sdict = {\"2010\":0,\"2011\":1,\"2012\":2,\"2013\":3,\"2014\":4,\"2015\":5,\"2016\":6,\"2017\":7,\"2018\":8,\"2019\":9}\n",
    "#Players\n",
    "Players = [\"LionelMessi\",\"CristianoRonaldo\",\"RobertLewandowski\",\"LukaModric\",\"SergioRamos\",\"LuisSuarez\",\"AndresIniesta\"]\n",
    "Pdict = {\"LionelMessi\":0,\"CristianoRonaldo\":1,\"RobertLewandowski\":2,\"LukaModric\":3,\"SergioRamos\":4,\"LuisSuarez\":5,\"AndresIniesta\":6}\n",
    "#Salaries\n",
    "LionelMessi_Salary = [41000000,42500000,34600000,46700000,43200000,44700000,42900000,43100000,42000000,41000000]\n",
    "CristianoRonaldo_Salary = [41000000,42300000,44500000,46300000,47600000,48000000,48600000,49600000,50000000,46000000]\n",
    "RobertLewandowski_Salary = [41200000,42300000,44300000,49680000,44780000,46800000,49300000,42400000,48600000,44700000]\n",
    "LukaModric_Salary = [38900000,39000000,41000000,32000000,38900000,44500000,38600000,35400000,32700000,38600000]\n",
    "SergioRamos_Salary = [37000000,30500000,34600000,34200000,35100000,37800000,34300000,38400000,38900000,39600000]\n",
    "LuisSuarez_Salary = [34500000,38900000,38800000,39100000,40100000,41200000,39900000,42100000,45100000,44400000]\n",
    "AndresIniesta_Salary =[37600000,34200000,32800000,40100000,42300000,43400000,42100000,44200000,33400000,40000000] \n",
    "#Matrix\n",
    "Salary = np.array([LionelMessi_Salary, CristianoRonaldo_Salary, RobertLewandowski_Salary, LukaModric_Salary, SergioRamos_Salary, LuisSuarez_Salary, AndresIniesta_Salary])\n",
    "#Goals\n",
    "LionelMessi_FG = [53,73,60,41,58,41,54,45,51,24]\n",
    "CristianoRonaldo_FG = [53,60,55,51,61,51,44,42,44,28]\n",
    "RobertLewandowski_FG = [42,30,34,55,34,43,35,42,34,22]\n",
    "LukaModric_FG = [33,45,55,40,31,32,42,46,45,22]\n",
    "SergioRamos_FG = [32,38,34,52,38,36,39,40,36,20]\n",
    "LuisSuarez_FG = [34,34,35,32,42,50,42,45,46,24]\n",
    "AndresIniesta_FG = [23,24,34,42,40,32,46,42,44,24]\n",
    "#Matrix\n",
    "FieldGoals = np.array([LionelMessi_FG, CristianoRonaldo_FG, RobertLewandowski_FG, LukaModric_FG, SergioRamos_FG, LuisSuarez_FG, AndresIniesta_FG])\n",
    "#Games\n",
    "LionelMessi_G = [55,60,50,46,57,49,52,54,50,31]\n",
    "CristianoRonaldo_G = [54,55,55,47,54,48,46,44,43,32]\n",
    "RobertLewandowski_G = [40,56,52,47,56,49,46,42,41,31]\n",
    "LukaModric_G = [42,53,50,47,52,47,46,49,44,30]\n",
    "SergioRamos_G = [42,52,54,47,54,48,43,48,45,29]\n",
    "LuisSuarez_G = [44,54,53,47,56,48,46,47,46,32]\n",
    "AndresIniesta_G = [45,50,55,48,55,48,46,44,43,31]\n",
    "#Matrix\n",
    "Games = np.array([LionelMessi_G, CristianoRonaldo_G, RobertLewandowski_G, LukaModric_G, SergioRamos_G, LuisSuarez_G, AndresIniesta_G])              \n",
    "#Salary\n",
    "a = [[41000000, 42500000, 34600000, 46700000, 43200000, 44700000, 42900000, 43100000, 42000000, 41000000],\n",
    "     [41000000, 42300000, 44500000, 46300000, 47600000, 48000000, 48600000, 49600000, 50000000, 46000000],\n",
    "     [41200000, 42300000, 44300000, 49680000, 44780000, 46800000, 49300000, 42400000, 48600000, 44700000],\n",
    "     [38900000, 39000000, 41000000, 32000000, 38900000, 44500000, 38600000, 35400000, 32700000, 38600000],\n",
    "     [37000000, 30500000, 34600000, 34200000, 35100000, 37800000, 34300000, 38400000, 38900000, 39600000],\n",
    "     [34500000, 38900000, 38800000, 39100000, 40100000, 41200000, 39900000, 42100000, 45100000, 44400000],\n",
    "     [37600000, 34200000, 32800000, 40100000, 42300000, 43400000, 42100000, 44200000, 33400000, 40000000]\n",
    "    ];\n",
    "rows = len(a);  \n",
    "cols = len(a);    \n",
    "for i in range(0, rows):  \n",
    "    sumRow = 0;  \n",
    "    for j in range(0, cols):  \n",
    "        sumRow = sumRow + a[i][j];  \n",
    "    print(\"Sum of \" + str(i+1) +\" row: \" + str(sumRow));  \n",
    "    \n",
    "for i in range(0, rows):  \n",
    "    sumCol = 0;  \n",
    "    for j in range(0, cols):  \n",
    "        sumCol = sumCol + a[j][i];  \n",
    "    print(\"Sum of \" + str(i+1) +\" column: \" + str(sumCol)); \n"
   ]
  },
  {
   "cell_type": "code",
   "execution_count": 37,
   "metadata": {},
   "outputs": [
    {
     "name": "stdout",
     "output_type": "stream",
     "text": [
      "Sum of 1 row: 380\n",
      "Sum of 2 row: 375\n",
      "Sum of 3 row: 273\n",
      "Sum of 4 row: 278\n",
      "Sum of 5 row: 269\n",
      "Sum of 6 row: 269\n",
      "Sum of 7 row: 241\n",
      "Sum of 1 column: 270\n",
      "Sum of 2 column: 304\n",
      "Sum of 3 column: 307\n",
      "Sum of 4 column: 313\n",
      "Sum of 5 column: 304\n",
      "Sum of 6 column: 285\n",
      "Sum of 7 column: 302\n"
     ]
    }
   ],
   "source": [
    "#Goals\n",
    "a = [[53,73,60,41,58,41,54,45,51,24],\n",
    "     [53,60,55,51,61,51,44,42,44,28],\n",
    "     [42,30,34,55,34,43,35,42,34,22],\n",
    "     [33,45,55,40,31,32,42,46,45,22],\n",
    "     [32,38,34,52,38,36,39,40,36,20],\n",
    "     [34,34,35,32,42,50,42,45,46,24],\n",
    "     [23,24,34,42,40,32,46,42,44,24],\n",
    "    ];\n",
    "rows = len(a);  \n",
    "cols = len(a);    \n",
    "for i in range(0, rows):  \n",
    "    sumRow = 0;  \n",
    "    for j in range(0, cols):  \n",
    "        sumRow = sumRow + a[i][j];  \n",
    "    print(\"Sum of \" + str(i+1) +\" row: \" + str(sumRow));  \n",
    "    \n",
    "for i in range(0, rows):  \n",
    "    sumCol = 0;  \n",
    "    for j in range(0, cols):  \n",
    "        sumCol = sumCol + a[j][i];  \n",
    "    print(\"Sum of \" + str(i+1) +\" column: \" + str(sumCol));"
   ]
  },
  {
   "cell_type": "code",
   "execution_count": 38,
   "metadata": {},
   "outputs": [
    {
     "name": "stdout",
     "output_type": "stream",
     "text": [
      "Sum of 1 row: 380\n",
      "Sum of 2 row: 375\n",
      "Sum of 3 row: 273\n",
      "Sum of 4 row: 278\n",
      "Sum of 5 row: 269\n",
      "Sum of 6 row: 269\n",
      "Sum of 7 row: 241\n",
      "Sum of 1 column: 270\n",
      "Sum of 2 column: 304\n",
      "Sum of 3 column: 307\n",
      "Sum of 4 column: 313\n",
      "Sum of 5 column: 304\n",
      "Sum of 6 column: 285\n",
      "Sum of 7 column: 302\n"
     ]
    }
   ],
   "source": [
    "#Games\n",
    "a = [[53,73,60,41,58,41,54,45,51,24],\n",
    "    [53,60,55,51,61,51,44,42,44,28],\n",
    "    [42,30,34,55,34,43,35,42,34,22],\n",
    "    [33,45,55,40,31,32,42,46,45,22],\n",
    "    [32,38,34,52,38,36,39,40,36,20],\n",
    "    [34,34,35,32,42,50,42,45,46,24],\n",
    "    [23,24,34,42,40,32,46,42,44,24],\n",
    "    ];\n",
    "rows = len(a);  \n",
    "cols = len(a);    \n",
    "for i in range(0, rows):  \n",
    "    sumRow = 0;  \n",
    "    for j in range(0, cols):  \n",
    "        sumRow = sumRow + a[i][j];  \n",
    "    print(\"Sum of \" + str(i+1) +\" row: \" + str(sumRow));  \n",
    "    \n",
    "for i in range(0, rows):  \n",
    "    sumCol = 0;  \n",
    "    for j in range(0, cols):  \n",
    "        sumCol = sumCol + a[j][i];  \n",
    "    print(\"Sum of \" + str(i+1) +\" column: \" + str(sumCol));"
   ]
  },
  {
   "cell_type": "code",
   "execution_count": null,
   "metadata": {},
   "outputs": [],
   "source": []
  }
 ],
 "metadata": {
  "kernelspec": {
   "display_name": "Python 3",
   "language": "python",
   "name": "python3"
  },
  "language_info": {
   "codemirror_mode": {
    "name": "ipython",
    "version": 3
   },
   "file_extension": ".py",
   "mimetype": "text/x-python",
   "name": "python",
   "nbconvert_exporter": "python",
   "pygments_lexer": "ipython3",
   "version": "3.8.5"
  }
 },
 "nbformat": 4,
 "nbformat_minor": 4
}
