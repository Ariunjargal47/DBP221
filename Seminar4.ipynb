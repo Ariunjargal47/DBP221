{
 "cells": [
  {
   "cell_type": "code",
   "execution_count": 1,
   "metadata": {},
   "outputs": [
    {
     "name": "stdout",
     "output_type": "stream",
     "text": [
      "[ 50  51  52  53  54  55  56  57  58  59  60  61  62  63  64  65  66  67\n",
      "  68  69  70  71  72  73  74  75  76  77  78  79  80  81  82  83  84  85\n",
      "  86  87  88  89  90  91  92  93  94  95  96  97  98  99 100]\n"
     ]
    }
   ],
   "source": [
    "#1\n",
    "import numpy as np\n",
    "x = np.arange(50, 101)\n",
    "print(x)"
   ]
  },
  {
   "cell_type": "code",
   "execution_count": 3,
   "metadata": {},
   "outputs": [
    {
     "name": "stdout",
     "output_type": "stream",
     "text": [
      "[0 0 0 0 0 0 0 0 0 0]\n",
      "[1 1 1 1 1 1 1 1 1 1]\n",
      "[6 6 6 6 6 6 6 6 6 6]\n"
     ]
    }
   ],
   "source": [
    "#2\n",
    "print(np.repeat(0,10))\n",
    "print(np.repeat(1,10))\n",
    "print(np.repeat(6,10))"
   ]
  },
  {
   "cell_type": "code",
   "execution_count": 10,
   "metadata": {},
   "outputs": [
    {
     "name": "stdout",
     "output_type": "stream",
     "text": [
      "[[20 21 22 23]\n",
      " [24 25 26 27]\n",
      " [28 29 30 31]]\n"
     ]
    }
   ],
   "source": [
    "#3\n",
    "import numpy as np\n",
    "m= np.arange(20,32).reshape((3, 4))\n",
    "print(m)"
   ]
  },
  {
   "cell_type": "code",
   "execution_count": 11,
   "metadata": {},
   "outputs": [
    {
     "name": "stdout",
     "output_type": "stream",
     "text": [
      "[[1 0 0]\n",
      " [0 1 0]\n",
      " [0 0 1]]\n"
     ]
    }
   ],
   "source": [
    "#4\n",
    "print(np.diag([1,1,1]))"
   ]
  },
  {
   "cell_type": "code",
   "execution_count": 12,
   "metadata": {},
   "outputs": [
    {
     "name": "stdout",
     "output_type": "stream",
     "text": [
      "[[1 0 0 0 0]\n",
      " [0 2 0 0 0]\n",
      " [0 0 3 0 0]\n",
      " [0 0 0 4 0]\n",
      " [0 0 0 0 5]]\n"
     ]
    }
   ],
   "source": [
    "#5\n",
    "print(np.diag([1,2,3,4,5]))"
   ]
  },
  {
   "cell_type": "code",
   "execution_count": 13,
   "metadata": {},
   "outputs": [
    {
     "name": "stdout",
     "output_type": "stream",
     "text": [
      "Sum of 1 row: 3\n",
      "Sum of 2 row: 9\n",
      "Sum of 1 column: 5\n",
      "Sum of 2 column: 7\n"
     ]
    }
   ],
   "source": [
    "#6\n",
    "a = [[1, 2],  \n",
    "     [4, 5],\n",
    "    ];   \n",
    "rows = len(a);  \n",
    "cols = len(a);    \n",
    "for i in range(0, rows):  \n",
    "    sumRow = 0;  \n",
    "    for j in range(0, cols):  \n",
    "        sumRow = sumRow + a[i][j];  \n",
    "    print(\"Sum of \" + str(i+1) +\" row: \" + str(sumRow));  \n",
    "    \n",
    "for i in range(0, rows):  \n",
    "    sumCol = 0;  \n",
    "    for j in range(0, cols):  \n",
    "        sumCol = sumCol + a[j][i];  \n",
    "    print(\"Sum of \" + str(i+1) +\" column: \" + str(sumCol));"
   ]
  },
  {
   "cell_type": "code",
   "execution_count": 6,
   "metadata": {},
   "outputs": [
    {
     "name": "stdout",
     "output_type": "stream",
     "text": [
      "[222470735 188489772 183809255 159301544 127577083 135891648 135121289]\n",
      "[ 25000000  43564248 240710233  83437500 101387286  98060900 214925927\n",
      " 222838800  54478120  68258312]\n",
      "[ 25000000  43564248 240710233  83437500 101387286  98060900 214925927\n",
      " 222838800  54478120  68258312]\n",
      "[222470735 188489772 183809255 159301544 127577083 135891648 135121289]\n",
      "[13596 10239  9078  5605  5246  5358  2768]\n",
      "[ 1161  2081 11807  7213  4688  1010  7004  8346  5309  3271]\n"
     ]
    }
   ],
   "source": [
    "#7\n",
    "import numpy as np\n",
    "Seasons = [\"2015\",\"2016\",\"2017\",\"2018\",\"2019\",\"2020\",\"2021\"]\n",
    "Sdict = {\"2015\":0,\"2016\":1,\"2017\":2,\"2018\":3,\"2019\":4,\"2020\":5,\"2021\":6}\n",
    "#player\n",
    "Players = [\"KobeBryant\",\"JoeJohnson\",\"LeBronJames\",\"CarmeloAnthony\",\"DwightHoward\",\"ChrisBosh\",\"ChrisPaul\",\"KevinDurant\",\"DerrickRose\",\"DwayneWade\"]\n",
    "Pdict = {\"KobeBryant\":0,\"JoeJohnson\":1,\"LeBronJames\":2,\"CarmeloAnthony\":3,\"DwightHoward\":4,\"ChrisBosh\":5,\"ChrisPaul\":6,\"KevinDurant\":7,\"DerrickRose\":8,\"DwayneWade\":9}\n",
    "#salary\n",
    "KobeBryant_Salary = [25000000,0,0,0,0,0,0]\n",
    "JoeJohnson_Salary = [22309344,11000000,10254904,0,0,0,0]\n",
    "LeBronJames_Salary = [22970500,30963450,33285709,35654150,37436858,39219566,41180000]\n",
    "CarmeloAnthony_Salary = [22875000,24559380,26243760,2393887,2159029,2564753,2641691]\n",
    "DwightHoward_Salary = [22359364,23500000,23500000,24256725,2564753,2564753,2641691]\n",
    "ChrisBosh_Salary = [22192730, 23741060, 25289390, 26837720, 0,0,0]\n",
    "ChrisPaul_Salary = [21468695, 22868827,24268959, 35654150, 38506482, 41358814, 30800000]\n",
    "KevinDurant_Salary = [21971850,26540100,25000000,30000000,37199000,40108950,42018900]\n",
    "DerrickRose_Salary = [21323252,2116955,416533,2176260,7317074,7682926,13445120]\n",
    "DwayneWade_Salary = [20000000,23200000,15550000,2328652,2393887,2391886,2393887]\n",
    "Salary = np.array([KobeBryant_Salary, JoeJohnson_Salary, LeBronJames_Salary, CarmeloAnthony_Salary, DwightHoward_Salary, ChrisBosh_Salary, ChrisPaul_Salary, KevinDurant_Salary, DerrickRose_Salary, DwayneWade_Salary])\n",
    "#Games\n",
    "KobeBryant_G = [66,0,0,0,0,0,0]\n",
    "JoeJohnson_G = [81,78,55,0,0,0,1]\n",
    "LeBronJames_G = [76,74,82,55,67,45,46]\n",
    "CarmeloAnthony_G = [72,74,78,10,58,69,56]\n",
    "DwightHoward_G = [71,74,81,9,69,69,47]\n",
    "ChrisBosh_G = [31,32,0,0,0,0,0]\n",
    "ChrisPaul_G = [74,61,58,58,70,70,58]\n",
    "KevinDurant_G = [72,62,68,78,0,35,38]\n",
    "DerrickRose_G = [66,64,25,51,50,50,26]\n",
    "DwayneWade_G = [74,60,67,46,21,72,0]\n",
    "Games = np.array([KobeBryant_Salary, JoeJohnson_Salary, LeBronJames_Salary, CarmeloAnthony_Salary, DwightHoward_Salary, ChrisBosh_Salary, ChrisPaul_Salary, KevinDurant_Salary, DerrickRose_Salary, DwayneWade_Salary])\n",
    "##Minutes Played\n",
    "KobeBryant_MP = [1861,0,0,0,0,0,0]\n",
    "JoeJohnson_MP = [2705,1932,768,1840,1204,700,506]\n",
    "LeBronJames_MP = [2706,2797,3026,1936,2318,1503,1693]\n",
    "CarmeloAnthony_MP = [2527,2538,2504,294,1902,1691,1495]\n",
    "DwightHoward_MP = [2279,2198,2462,230,1304,1194,691]\n",
    "ChrisBosh_MP = [1755,0,0,0,0,0,0]\n",
    "ChrisPaul_MP = [2419,1921,1844,1856,2205,2198,1914]\n",
    "KevinDurant_MP = [2577,2070,2325,2698,0,1158,1387]\n",
    "DerrickRose_MP = [2098,2080,420,1392,1300,1280,637]\n",
    "DwayneWade_MP = [2257,1794,1534,1067,466,1886]\n",
    "Minutes_Played = np.array([KobeBryant_Salary, JoeJohnson_Salary, LeBronJames_Salary, CarmeloAnthony_Salary, DwightHoward_Salary, ChrisBosh_Salary, ChrisPaul_Salary, KevinDurant_Salary, DerrickRose_Salary, DwayneWade_Salary])\n",
    "### Points\n",
    "#Points\n",
    "KobeBryant_PTS = [1161,0,0,0,0,0,0]\n",
    "JoeJohnson_PTS = [992,715,372,0,0,0,2]\n",
    "LeBronJames_PTS = [1920,1954,2251,1505,1698,1126,1353]\n",
    "CarmeloAnthony_PTS = [1573,1659,1261,134,895,924,767]\n",
    "DwightHoward_PTS = [976,1002,1347,115,517,482,249]\n",
    "ChrisBosh_PTS = [1010,0,0,0,0,0,0]\n",
    "ChrisPaul_PTS = [1446,1104,1081,906,1232,1149,86]\n",
    "KevinDurant_PTS = [2029,1555,1792,2027,0,943,0]\n",
    "DerrickRose_PTS = [1080,1154,209,917,904,734,311]\n",
    "DwayneWade_PTS = [1409,1096,765,1,0,0,0]\n",
    "#Matrix\n",
    "Points = np.array([KobeBryant_PTS, JoeJohnson_PTS, LeBronJames_PTS, CarmeloAnthony_PTS, DwightHoward_PTS, ChrisBosh_PTS, ChrisPaul_PTS, KevinDurant_PTS, DerrickRose_PTS, DwayneWade_PTS])             \n",
    "#Field Goals\n",
    "KobeBryant_FG = [398,0,0,0,0,0,0]\n",
    "JoeJohnson_FG = [377,273,146,0,0,0]\n",
    "LeBronJames_FG = [737,736,857,558,643,422,509]\n",
    "CarmeloAnthony_FG = [567,602,472,49,336,327,263]\n",
    "DwightHoward_FG = [372,388,506,43,202,178,91]\n",
    "ChrisBosh_FG = [358,0,0,0,0,0,0]\n",
    "ChrisPaul_FG = [515,374,367,302,434,439,325]\n",
    "KevinDurant_FG = [698,551,630,721,0,324,407]\n",
    "DerrickRose_FG = [447,460,81,363,369,287,122]\n",
    "DwayneWade_FG = [540,414,299,416,0,0,0]\n",
    "Field_Goal = np.array([KobeBryant_PTS, JoeJohnson_PTS, LeBronJames_PTS, CarmeloAnthony_PTS, DwightHoward_PTS, ChrisBosh_PTS, ChrisPaul_PTS, KevinDurant_PTS, DerrickRose_PTS, DwayneWade_PTS])\n",
    "#Field Goal Attempts\n",
    "KobeBryant_FGA = [1113,0,0,0,0,0,0]\n",
    "JoeJohnson_FGA = [859,626,360,0,0,0,0]\n",
    "LeBronJames_FGA = [1416,1344,1580,1095,1303,823,976]\n",
    "CarmeloAnthony_FGA = [1307,1389,1168,121,782,777,589]\n",
    "DwightHoward_FGA = [600,613,911,69,277,303,150]\n",
    "ChrisBosh_FGA = [767,0,0,0,0,0,0]\n",
    "ChrisPaul_FGA = [1114,785,798,720,887,879,667]\n",
    "KevinDurant_FGA = [1381,1026,1222,1383,0,603,784]\n",
    "DerrickRose_FGA = [1048,977,186,753,753,611,274]\n",
    "DwayneWade_FGA = [1183,955,682,960,0,0,0]\n",
    "Field_Goal_attempt = np.array([KobeBryant_PTS, JoeJohnson_PTS, LeBronJames_PTS, CarmeloAnthony_PTS, DwightHoward_PTS, ChrisBosh_PTS, ChrisPaul_PTS, KevinDurant_PTS, DerrickRose_PTS, DwayneWade_PTS])\n",
    "#Salary\n",
    "print(Salary.sum(axis = 0))\n",
    "print(Salary.sum(axis = 1))\n",
    "#Games\n",
    "print(Games.sum(axis = 1))\n",
    "print(Games.sum(axis = 0))\n",
    "#Points\n",
    "print(Points.sum(axis = 0))\n",
    "print(Points.sum(axis = 1))"
   ]
  }
 ],
 "metadata": {
  "kernelspec": {
   "display_name": "Python 3",
   "language": "python",
   "name": "python3"
  },
  "language_info": {
   "codemirror_mode": {
    "name": "ipython",
    "version": 3
   },
   "file_extension": ".py",
   "mimetype": "text/x-python",
   "name": "python",
   "nbconvert_exporter": "python",
   "pygments_lexer": "ipython3",
   "version": "3.8.5"
  }
 },
 "nbformat": 4,
 "nbformat_minor": 4
}
