{
 "cells": [
  {
   "cell_type": "code",
   "execution_count": 9,
   "metadata": {},
   "outputs": [
    {
     "name": "stdout",
     "output_type": "stream",
     "text": [
      "['python', 'php', 'java']\n"
     ]
    }
   ],
   "source": [
    "#1\n",
    "list = ['python', 'php', 'java']\n",
    "print(list[0:3])"
   ]
  },
  {
   "cell_type": "code",
   "execution_count": 8,
   "metadata": {},
   "outputs": [
    {
     "name": "stdout",
     "output_type": "stream",
     "text": [
      "32\n"
     ]
    }
   ],
   "source": [
    "#2\n",
    "list1 = [2,0,0,1,0,8,1,9,4,7]\n",
    "k = 0\n",
    "for i in list1:\n",
    "    k = k+i\n",
    "    i = i+1\n",
    "print(k)"
   ]
  },
  {
   "cell_type": "code",
   "execution_count": 7,
   "metadata": {},
   "outputs": [
    {
     "name": "stdout",
     "output_type": "stream",
     "text": [
      "120\n"
     ]
    }
   ],
   "source": [
    "#3\n",
    "num = [2,4,5,1,3]\n",
    "def multi(num):\n",
    "    k = 1\n",
    "    for i in num:\n",
    "        k = k*i\n",
    "        i = i+1\n",
    "    print(k)\n",
    "multi(num)"
   ]
  },
  {
   "cell_type": "code",
   "execution_count": 1,
   "metadata": {},
   "outputs": [
    {
     "name": "stdout",
     "output_type": "stream",
     "text": [
      "1,2,3,4\n",
      "12\n"
     ]
    }
   ],
   "source": [
    "#4\n",
    "def multiply():\n",
    "    a = list(map(int, input('').split(',')))\n",
    "    z = a[2]*a[-1]\n",
    "    print(z)   \n",
    "multiply()"
   ]
  },
  {
   "cell_type": "code",
   "execution_count": 1,
   "metadata": {},
   "outputs": [
    {
     "name": "stdout",
     "output_type": "stream",
     "text": [
      "1,2,3,4,5\n",
      "5 1\n"
     ]
    }
   ],
   "source": [
    "#5\n",
    "def function():\n",
    "    a = list(map(int, input('').split(',')))\n",
    "    x = max(a)\n",
    "    y = min(a)\n",
    "    print(x,y)\n",
    "function()"
   ]
  },
  {
   "cell_type": "code",
   "execution_count": 3,
   "metadata": {},
   "outputs": [
    {
     "name": "stdout",
     "output_type": "stream",
     "text": [
      "2\n"
     ]
    }
   ],
   "source": [
    "#6\n",
    "def match_words(words):\n",
    "  ctr = 0\n",
    "  for word in words:\n",
    "    if word[0] == word[-1]:\n",
    "      ctr += 1\n",
    "  return ctr\n",
    "print(match_words(['abc', 'xyz', 'aba', '1221']))"
   ]
  },
  {
   "cell_type": "code",
   "execution_count": 2,
   "metadata": {},
   "outputs": [
    {
     "name": "stdout",
     "output_type": "stream",
     "text": [
      "1,2,3,4,5\n",
      "[1, 2, 3, 4, 5]\n"
     ]
    }
   ],
   "source": [
    "#7\n",
    "def function():\n",
    "    a = list(map(int, input('').split(',')))\n",
    "    my_final_list = set(a)\n",
    "    print(list(my_final_list))\n",
    "function()"
   ]
  },
  {
   "cell_type": "code",
   "execution_count": 48,
   "metadata": {},
   "outputs": [
    {
     "name": "stdout",
     "output_type": "stream",
     "text": [
      "List is empty\n"
     ]
    }
   ],
   "source": [
    "#8\n",
    "list = []\n",
    "def func(list):\n",
    "    if len(list) == 0:\n",
    "        print('List is empty')  \n",
    "    else:\n",
    "        print('List is not empty')\n",
    "func(list)"
   ]
  },
  {
   "cell_type": "code",
   "execution_count": 14,
   "metadata": {},
   "outputs": [
    {
     "name": "stdout",
     "output_type": "stream",
     "text": [
      "[1, 2, 3, 5, 7, 9, 10]\n"
     ]
    }
   ],
   "source": [
    "#9\n",
    "list = [1,2,3,4,5,6,7,8,9,10]\n",
    "del list[3], list[4], list[5]\n",
    "print(list)"
   ]
  },
  {
   "cell_type": "code",
   "execution_count": 12,
   "metadata": {},
   "outputs": [
    {
     "name": "stdout",
     "output_type": "stream",
     "text": [
      "(1, 2, 3, 4, 5, 6)\n"
     ]
    }
   ],
   "source": [
    "#10\n",
    "tuple = (1,2,3,4,5,6)\n",
    "print(tuple)"
   ]
  },
  {
   "cell_type": "code",
   "execution_count": 5,
   "metadata": {},
   "outputs": [
    {
     "name": "stdout",
     "output_type": "stream",
     "text": [
      "12\n",
      "(1, 2, 3, 4, 5, 6, '12')\n"
     ]
    }
   ],
   "source": [
    "#11\n",
    "a = (1,2,3,4,5,6)\n",
    "y = list(a)\n",
    "y.append(input())\n",
    "a = tuple(y)\n",
    "print(a)"
   ]
  },
  {
   "cell_type": "code",
   "execution_count": 1,
   "metadata": {},
   "outputs": [
    {
     "name": "stdout",
     "output_type": "stream",
     "text": [
      "1,2,3,4,5\n",
      "2 4\n"
     ]
    }
   ],
   "source": [
    "#12\n",
    "a = list(map(int, input('').split(',')))\n",
    "print(a[1],a[-2])"
   ]
  },
  {
   "cell_type": "code",
   "execution_count": 47,
   "metadata": {},
   "outputs": [
    {
     "name": "stdout",
     "output_type": "stream",
     "text": [
      "11\n",
      "Yes\n"
     ]
    }
   ],
   "source": [
    "#13\n",
    "y = input()\n",
    "a = (1,2,3,4,5,6,7,8,9,10,y)\n",
    "if y in a:\n",
    "    print('Yes')"
   ]
  },
  {
   "cell_type": "code",
   "execution_count": 46,
   "metadata": {},
   "outputs": [
    {
     "name": "stdout",
     "output_type": "stream",
     "text": [
      "1,2,3,4,5\n",
      "1\n",
      "2\n",
      "3\n",
      "4\n",
      "5\n"
     ]
    }
   ],
   "source": [
    "#14\n",
    "a = list(map(int, input('').split(',')))\n",
    "k = 0\n",
    "for i in a:\n",
    "    print(i)\n",
    "    i += 1"
   ]
  },
  {
   "cell_type": "code",
   "execution_count": 5,
   "metadata": {
    "scrolled": true
   },
   "outputs": [
    {
     "name": "stdout",
     "output_type": "stream",
     "text": [
      "{'peach', 'orange', 'grape', 'banana', 'apple'}\n"
     ]
    }
   ],
   "source": [
    "#15\n",
    "fruit = {'banana','orange','apple'}\n",
    "fruits = {'grape','peach'}\n",
    "vegetable = fruit.union(fruits)\n",
    "print(vegetable)\n"
   ]
  },
  {
   "cell_type": "code",
   "execution_count": 6,
   "metadata": {
    "scrolled": true
   },
   "outputs": [
    {
     "name": "stdout",
     "output_type": "stream",
     "text": [
      "{'pear'}\n"
     ]
    }
   ],
   "source": [
    "#16\n",
    "fruits = {'orange', 'apple', 'pear'} \n",
    "veggie = {'pear', 'potato', 'tomato'} \n",
    "newset = fruits.intersection(veggie)\n",
    "print(newset)"
   ]
  },
  {
   "cell_type": "code",
   "execution_count": 7,
   "metadata": {},
   "outputs": [
    {
     "name": "stdout",
     "output_type": "stream",
     "text": [
      "3\n"
     ]
    }
   ],
   "source": [
    "#17\n",
    "fruits = {'orange', 'apple', 'pear'} \n",
    "print(len(fruits))"
   ]
  },
  {
   "cell_type": "code",
   "execution_count": 2,
   "metadata": {},
   "outputs": [
    {
     "name": "stdout",
     "output_type": "stream",
     "text": [
      "3\n",
      "{'pear', 'apple', 'orange'}\n"
     ]
    }
   ],
   "source": [
    "#18\n",
    "x = input()\n",
    "fruits = {'orange', 'apple', x, 'pear'}\n",
    "fruits.remove(x)\n",
    "print(fruits)"
   ]
  },
  {
   "cell_type": "code",
   "execution_count": 16,
   "metadata": {},
   "outputs": [
    {
     "name": "stdout",
     "output_type": "stream",
     "text": [
      "set()\n"
     ]
    }
   ],
   "source": [
    "#19\n",
    "colors = {\"Red\", \"Green\", \"Black\", \"White\"}\n",
    "colors.clear()\n",
    "print(colors)"
   ]
  },
  {
   "cell_type": "code",
   "execution_count": 11,
   "metadata": {},
   "outputs": [
    {
     "name": "stdout",
     "output_type": "stream",
     "text": [
      "None\n"
     ]
    }
   ],
   "source": [
    "#20\n",
    "fruits = {'orange', 'apple', 'pear'}\n",
    "print(fruits.clear())"
   ]
  },
  {
   "cell_type": "code",
   "execution_count": 27,
   "metadata": {},
   "outputs": [
    {
     "name": "stdout",
     "output_type": "stream",
     "text": [
      "{'Name': 'Ariunjargal', 'Age': ' 20', 'Weight': '58kg'}\n"
     ]
    }
   ],
   "source": [
    "#21\n",
    "dict1 = { 'Name': 'Ariunjargal','Age': ' 20','Weight': '58kg' } \n",
    "print (dict1)"
   ]
  },
  {
   "cell_type": "code",
   "execution_count": 24,
   "metadata": {},
   "outputs": [
    {
     "name": "stdout",
     "output_type": "stream",
     "text": [
      "Name is in it.\n"
     ]
    }
   ],
   "source": [
    "#22\n",
    "dict1 = { 'Name': 'Ariunjargal','Age': ' 20','Weight': '58kg' } \n",
    "if 'Name' in dict1:\n",
    "    print('Name is in it.' )"
   ]
  },
  {
   "cell_type": "code",
   "execution_count": 35,
   "metadata": {},
   "outputs": [
    {
     "name": "stdout",
     "output_type": "stream",
     "text": [
      "Yes\n"
     ]
    }
   ],
   "source": [
    "#23\n",
    "dict1 = { 'Name': 'Ariunjargal','Age': ' 20','Weight': '58kg' }\n",
    "if 'Ariunjargal' in dict1.values():\n",
    "    print('Yes')\n",
    "else:\n",
    "    print('No')"
   ]
  },
  {
   "cell_type": "code",
   "execution_count": 36,
   "metadata": {},
   "outputs": [
    {
     "name": "stdout",
     "output_type": "stream",
     "text": [
      "Name Ariunjargal\n",
      "Age  20\n",
      "Weight 58kg\n"
     ]
    }
   ],
   "source": [
    "#24\n",
    "dict1 = { 'Name': 'Ariunjargal','Age': ' 20','Weight': '58kg' }\n",
    "for x,y in dict1.items():\n",
    "    print(x,y)"
   ]
  },
  {
   "cell_type": "code",
   "execution_count": 44,
   "metadata": {},
   "outputs": [
    {
     "name": "stdout",
     "output_type": "stream",
     "text": [
      "Name Ariunjargal\n",
      "Age  20\n",
      "Weight 58kg\n",
      "1 200\n",
      "2 300\n",
      "3 400\n"
     ]
    }
   ],
   "source": [
    "#25\n",
    "dict1 = { 'Name': 'Ariunjargal','Age': ' 20','Weight': '58kg' }\n",
    "dict2 = {'1': '200','2': '300', '3': '400'}\n",
    "dict1.update(dict2)\n",
    "for x,y in dict1.items():\n",
    "    print(x,y)"
   ]
  },
  {
   "cell_type": "code",
   "execution_count": 43,
   "metadata": {},
   "outputs": [
    {
     "name": "stdout",
     "output_type": "stream",
     "text": [
      "900\n"
     ]
    }
   ],
   "source": [
    "#26\n",
    "dict1 = {'1': 200,'2': 300, '3': 400}\n",
    "a = sum(dict1.values())\n",
    "print(a)"
   ]
  }
 ],
 "metadata": {
  "kernelspec": {
   "display_name": "Python 3",
   "language": "python",
   "name": "python3"
  },
  "language_info": {
   "codemirror_mode": {
    "name": "ipython",
    "version": 3
   },
   "file_extension": ".py",
   "mimetype": "text/x-python",
   "name": "python",
   "nbconvert_exporter": "python",
   "pygments_lexer": "ipython3",
   "version": "3.8.5"
  }
 },
 "nbformat": 4,
 "nbformat_minor": 4
}
