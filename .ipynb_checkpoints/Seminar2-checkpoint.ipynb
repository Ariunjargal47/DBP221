{
 "cells": [
  {
   "cell_type": "code",
   "execution_count": 1,
   "metadata": {},
   "outputs": [
    {
     "name": "stdout",
     "output_type": "stream",
     "text": [
      " 12121\n",
      "The number is a palindrome!\n"
     ]
    }
   ],
   "source": [
    "#1\n",
    "n=int(input(\" \"))\n",
    "a=n\n",
    "b=0\n",
    "while(n>0):\n",
    "    c=n%10\n",
    "    b=b*10+c\n",
    "    n=n//10\n",
    "if(a==b):\n",
    "    print(\"The number is a palindrome!\")\n",
    "else:\n",
    "    print(\"The number isn't a palindrome!\")"
   ]
  },
  {
   "cell_type": "code",
   "execution_count": 3,
   "metadata": {},
   "outputs": [
    {
     "name": "stdout",
     "output_type": "stream",
     "text": [
      "Teacher\n",
      "Lower case characters:  6\n",
      "Upper case characters:  1\n"
     ]
    }
   ],
   "source": [
    "#2\n",
    "s=str(input(\"\"))\n",
    "l,u = 0,0\n",
    "for i in s:\n",
    "    if (i>='a'and i<='z'):\n",
    "        l=l+1                 \n",
    "    if (i>='A'and i<='Z'):\n",
    "        u=u+1            \n",
    "print('Lower case characters: ',l)\n",
    "print('Upper case characters: ',u)"
   ]
  },
  {
   "cell_type": "code",
   "execution_count": 1,
   "metadata": {},
   "outputs": [
    {
     "name": "stdout",
     "output_type": "stream",
     "text": [
      "1,2,3,4\n",
      "24\n"
     ]
    }
   ],
   "source": [
    "#3\n",
    "def product(p):\n",
    "    total =1 \n",
    "    for i in p:\n",
    "        total=total*i \n",
    "    return total\n",
    "print(product(map(int, input('').split(',')))) "
   ]
  },
  {
   "cell_type": "code",
   "execution_count": 7,
   "metadata": {},
   "outputs": [
    {
     "name": "stdout",
     "output_type": "stream",
     "text": [
      "4\n",
      "24\n"
     ]
    }
   ],
   "source": [
    "#4 \n",
    "n = int(input())\n",
    "def factorial(n):\n",
    "    if n==1:\n",
    "        return 1\n",
    "    elif n == 0:\n",
    "        return 1\n",
    "    elif n < 0:\n",
    "        return \"Боломжгүй\"\n",
    "    else:\n",
    "        return n * factorial(n-1)\n",
    "print(factorial(n))"
   ]
  },
  {
   "cell_type": "code",
   "execution_count": 3,
   "metadata": {},
   "outputs": [
    {
     "name": "stdout",
     "output_type": "stream",
     "text": [
      "TOMAS\n",
      "SAMOT\n"
     ]
    }
   ],
   "source": [
    "#5\n",
    "def reverse(s):\n",
    "  str = \"\"\n",
    "  for i in s:\n",
    "    str = i + str\n",
    "  return str\n",
    "s = str(input(''))\n",
    "print (reverse(s))"
   ]
  },
  {
   "cell_type": "code",
   "execution_count": 2,
   "metadata": {},
   "outputs": [
    {
     "name": "stdout",
     "output_type": "stream",
     "text": [
      "3,4,5\n",
      "12\n"
     ]
    }
   ],
   "source": [
    "#6 \n",
    "a = list(map(int, input('').split(',')))\n",
    "b = sum(a)\n",
    "print(b)"
   ]
  },
  {
   "cell_type": "code",
   "execution_count": 28,
   "metadata": {},
   "outputs": [
    {
     "name": "stdout",
     "output_type": "stream",
     "text": [
      "['a', 'b', 'c']\n"
     ]
    }
   ],
   "source": [
    "#7\n",
    "my = [\"a\", \"b\", \"a\", \"c\", \"c\"]\n",
    "my = list(dict.fromkeys(my))\n",
    "print(my)"
   ]
  },
  {
   "cell_type": "code",
   "execution_count": 24,
   "metadata": {},
   "outputs": [
    {
     "name": "stdout",
     "output_type": "stream",
     "text": [
      "12,21,33\n",
      "33\n"
     ]
    }
   ],
   "source": [
    "#8\n",
    "a = list(map(int, input('').split(',')))\n",
    "def sum(num):\n",
    "    return max(num)\n",
    "print(sum(a))"
   ]
  }
 ],
 "metadata": {
  "kernelspec": {
   "display_name": "Python 3",
   "language": "python",
   "name": "python3"
  },
  "language_info": {
   "codemirror_mode": {
    "name": "ipython",
    "version": 3
   },
   "file_extension": ".py",
   "mimetype": "text/x-python",
   "name": "python",
   "nbconvert_exporter": "python",
   "pygments_lexer": "ipython3",
   "version": "3.8.5"
  }
 },
 "nbformat": 4,
 "nbformat_minor": 4
}
